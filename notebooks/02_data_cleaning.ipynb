{
 "cells": [
  {
   "metadata": {},
   "cell_type": "markdown",
   "source": [
    "### 1. Append rounds\n",
    "Combine feedback data from round1 and round2"
   ],
   "id": "b0d5bb39be2e8ed6"
  },
  {
   "metadata": {
    "ExecuteTime": {
     "end_time": "2024-12-28T04:53:21.771145Z",
     "start_time": "2024-12-28T04:53:14.579064Z"
    }
   },
   "cell_type": "code",
   "source": [
    "import pandas as pd\n",
    "\n",
    "# Load the two feedback files\n",
    "round1_file = \"../data/processed/round1_feedback.csv\"\n",
    "round2_file = \"../data/processed/round2_feedback.csv\"\n",
    "\n",
    "round1_feedback = pd.read_csv(round1_file)\n",
    "round2_feedback = pd.read_csv(round2_file)\n",
    "\n",
    "# Append the two DataFrames\n",
    "combined_feedback = pd.concat([round1_feedback, round2_feedback], ignore_index=True)\n",
    "\n",
    "# Save the combined data to a new file\n",
    "output_file = \"../data/processed/combined_feedback.csv\"\n",
    "combined_feedback.to_csv(output_file, index=False)\n",
    "\n",
    "print(f\"Combined feedback saved to {output_file}\")\n"
   ],
   "id": "5db55302f114b002",
   "outputs": [
    {
     "name": "stdout",
     "output_type": "stream",
     "text": [
      "Combined feedback saved to ../data/processed/combined_feedback.csv\n"
     ]
    }
   ],
   "execution_count": 4
  },
  {
   "metadata": {},
   "cell_type": "markdown",
   "source": [
    "### 2. Extract text from PDFs\n",
    " Extract text from PDF files and merge into the combined dataset"
   ],
   "id": "5d1a24561a951517"
  },
  {
   "metadata": {
    "ExecuteTime": {
     "end_time": "2024-12-24T17:58:04.230228Z",
     "start_time": "2024-12-24T17:56:56.766099Z"
    }
   },
   "cell_type": "code",
   "source": [
    "import os\n",
    "from PyPDF2 import PdfReader  \n",
    "\n",
    "# Extract text from the pdfs\n",
    "def extract_text_from_pdfs(directory):\n",
    "    pdf_data = []\n",
    "    for filename in os.listdir(directory):\n",
    "        if filename.endswith('.pdf'):\n",
    "            pdf_path = os.path.join(directory, filename)\n",
    "            try:\n",
    "                reader = PdfReader(pdf_path)\n",
    "                text = \"\"\n",
    "                for page in reader.pages:\n",
    "                    text += page.extract_text()\n",
    "                pdf_data.append({\"Feedback reference\": filename[:-4], \"text\": text})  #Removes the \".pdf\" from the filename\n",
    "            except Exception as e:\n",
    "                print(f\"Failed to process {filename}: {e}\")\n",
    "    return pdf_data\n",
    "\n",
    "# Path to the folder\n",
    "pdf_folder = \"../data/raw\"\n",
    "\n",
    "# Extract text and turn into a df\n",
    "pdf_data = extract_text_from_pdfs(pdf_folder)\n",
    "df = pd.DataFrame(pdf_data)\n",
    "\n",
    "print(df.head())"
   ],
   "id": "178c8e9ab0e7b288",
   "outputs": [
    {
     "name": "stdout",
     "output_type": "stream",
     "text": [
      "  Feedback reference                                               text\n",
      "0           F2665480   \\n \\n \\n \\n \\n \\nHOW THE EU CAN ACHIEVE LEGAL...\n",
      "1           F2665494   \\n \\n \\n1 \\n \\n \\nAI EU ACT: Main issues iden...\n",
      "2           F2665443   \\n \\nLiberty Global – supplementary position ...\n",
      "3           F2665331  Feedback provided by AstraZeneca:  \\nArtificia...\n",
      "4           F2665641   \\n 1  U.S. Chamber of Commerce Comments conce...\n"
     ]
    }
   ],
   "execution_count": 2
  },
  {
   "metadata": {
    "ExecuteTime": {
     "end_time": "2024-12-24T17:58:25.849915Z",
     "start_time": "2024-12-24T17:58:25.826478Z"
    }
   },
   "cell_type": "code",
   "source": [
    "# Merge extracted text with combined feedback\n",
    "complete_pdfs_df = pd.merge(combined_feedback, df, on=\"Feedback reference\", how=\"left\")\n",
    "complete_pdfs_df['text'] = complete_pdfs_df['text'].fillna(complete_pdfs_df['Additional Message'])"
   ],
   "id": "cc45a2aa71d28a56",
   "outputs": [],
   "execution_count": 4
  },
  {
   "metadata": {
    "ExecuteTime": {
     "end_time": "2024-12-24T17:58:29.539695Z",
     "start_time": "2024-12-24T17:58:29.528203Z"
    }
   },
   "cell_type": "code",
   "source": [
    "# Remove unnecessary columns\n",
    "columns_to_remove = [\"Feedback Content\", \"Feedback Link\", \"Page\", \"Submitted by\", \"Organisation\", \"Transparency register number\", \"Initiative\", \"Additional Message\"]\n",
    "complete_pdfs_df = complete_pdfs_df.drop(columns=columns_to_remove)"
   ],
   "id": "9495ba20bc93dd36",
   "outputs": [],
   "execution_count": 5
  },
  {
   "metadata": {
    "ExecuteTime": {
     "end_time": "2024-12-24T17:58:33.467640Z",
     "start_time": "2024-12-24T17:58:33.446916Z"
    }
   },
   "cell_type": "code",
   "source": [
    "# Remove rows where 'text' column is empty\n",
    "complete_pdfs_df = complete_pdfs_df.dropna(subset=['text'])\n",
    "print(complete_pdfs_df.info())"
   ],
   "id": "eaa47e0d17c50c61",
   "outputs": [
    {
     "name": "stdout",
     "output_type": "stream",
     "text": [
      "<class 'pandas.core.frame.DataFrame'>\n",
      "Index: 434 entries, 0 to 436\n",
      "Data columns (total 7 columns):\n",
      " #   Column              Non-Null Count  Dtype \n",
      "---  ------              --------------  ----- \n",
      " 0   Organization        434 non-null    object\n",
      " 1   Feedback reference  434 non-null    object\n",
      " 2   Submitted on        434 non-null    object\n",
      " 3   User type           420 non-null    object\n",
      " 4   Organisation size   401 non-null    object\n",
      " 5   Country of origin   420 non-null    object\n",
      " 6   text                434 non-null    object\n",
      "dtypes: object(7)\n",
      "memory usage: 27.1+ KB\n",
      "None\n"
     ]
    }
   ],
   "execution_count": 6
  },
  {
   "metadata": {},
   "cell_type": "markdown",
   "source": "###  3. Data Cleaning",
   "id": "9dfbe0160b5c4442"
  },
  {
   "metadata": {
    "ExecuteTime": {
     "end_time": "2024-12-24T17:59:54.481157Z",
     "start_time": "2024-12-24T17:59:51.676232Z"
    }
   },
   "cell_type": "code",
   "source": [
    "import re\n",
    "\n",
    "# List of regex patterns and their replacements\n",
    "CLEANING_PATTERNS = [\n",
    "    (r'\\s+', ' '),  # Remove excessive whitespace and line breaks\n",
    "    (r'[^\\x00-\\x7F]+', ' '),  # Remove non-ASCII characters\n",
    "    (r'^\\d+\\s+', ''),  # Remove leading numbers\n",
    "    (r'(\\b\\d+\\.\\s?)+', ''),  # Remove enumerations like '1. 2. 3.'\n",
    "    (r'(\\b\\d+\\:\\s?)+', ''),  # Remove patterns like '1: 2: 3:'\n",
    "    (r'(\\b\\d+\\sId\\.)+', ''),  # Remove patterns like '9 Id. 10 Id.'\n",
    "    (r'\\bId\\.\\b', ''),  # Remove dangling 'Id.'\n",
    "    (r'https?://\\S+|www\\.\\S+', ''),  # Remove URLs\n",
    "    (r'(\\b\\d{2,}\\.\\s?)+', ''),  # Remove enumerations like '10.', '11.'\n",
    "    (r'\\b(I{1,3}|IV|V|VI{0,3}|IX|X)\\.\\b', ''),  # Remove Roman numerals like 'III.', 'II.'\n",
    "    (r'\\b\\d+[a-zA-Z]?\\)', ''),  # Remove patterns like '3a)', '4b)', '2)'\n",
    "    (r'\\b\\d{3}[-\\.\\s]?\\d{3}[-\\.\\s]?\\d{4}\\b', ''),  # Remove phone numbers\n",
    "    (r'\\(\\d{3}\\)\\s?\\d{3}[-\\.\\s]?\\d{4}\\b', ''),  # Remove phone numbers in brackets\n",
    "    (r'\\b(x-axis|y-axis|z-axis|figure\\s?\\d+|chart\\s?\\d+|legend|data points)\\b', '', re.IGNORECASE),  # Remove graph-related text\n",
    "    (r'(Table of Contents|CONTENTS).*?(\\d+)(\\s|$)', '', re.IGNORECASE),  # Remove Table of Contents section\n",
    "    (r'\\.{2,}\\s?\\d+', ''),  # Remove dot leaders followed by page numbers\n",
    "    (r'^\\s*(I{1,3}|IV|V|VI{0,3}|IX|X)\\.\\s+.*$', '', re.MULTILINE),  # Remove Roman numeral sections\n",
    "]\n",
    "\n",
    "\n",
    "# Data cleaning function\n",
    "def clean_text(text, patterns):\n",
    "    \"\"\"Clean and preprocess text using modular patterns.\"\"\"\n",
    "    if not isinstance(text, str):\n",
    "        return \"\"  # Handle non-string inputs\n",
    "    \n",
    "    for pattern, replacement, *flags in patterns:\n",
    "        if flags:  # If regex flags are provided\n",
    "            text = re.sub(pattern, replacement, text, flags=flags[0])\n",
    "        else:\n",
    "            text = re.sub(pattern, replacement, text)\n",
    "    \n",
    "    # Normalize whitespace after all cleaning\n",
    "    text = re.sub(r'\\s+', ' ', text).strip()\n",
    "    return text\n",
    "\n",
    "# Example usage with a DataFrame\n",
    "def process_dataframe(input_df, output_file):\n",
    "    \"\"\"Clean the 'text' column of a DataFrame and save it to a CSV file.\"\"\"\n",
    "    # Ensure the DataFrame is a copy\n",
    "    cleaned_df = input_df.copy()\n",
    "    \n",
    "    # Apply the cleaning function to the 'text' column\n",
    "    cleaned_df['text'] = cleaned_df['text'].apply(lambda x: clean_text(x, CLEANING_PATTERNS))\n",
    "    \n",
    "    # Save the cleaned DataFrame to a CSV file\n",
    "    cleaned_df.to_csv(output_file, index=False)\n",
    "    print(f\"Cleaned text data saved to {output_file}\")\n",
    "    return cleaned_df\n",
    "\n",
    "# Apply cleaning to the DataFrame\n",
    "cleaned_pdfs_df = process_dataframe(complete_pdfs_df, output_file)\n",
    "\n",
    "# Preview cleaned text\n",
    "print(cleaned_pdfs_df['text'].head())\n"
   ],
   "id": "31ba35a9e44de97f",
   "outputs": [
    {
     "name": "stdout",
     "output_type": "stream",
     "text": [
      "Cleaned text data saved to ../data/processed/combined_feedback.csv\n",
      "0    September 10, 2020 Consumer Technology Associa...\n",
      "1    CDT welcomes the opportunity to provide input ...\n",
      "2    1 June 2020 European Commission's White Paper ...\n",
      "3    September 2020 EuroCommerce contributions to t...\n",
      "4    Slovensk aliancia pre inovat vnu ekonomiku Gr ...\n",
      "Name: text, dtype: object\n"
     ]
    }
   ],
   "execution_count": 7
  },
  {
   "metadata": {
    "ExecuteTime": {
     "end_time": "2024-12-24T17:59:58.860002Z",
     "start_time": "2024-12-24T17:59:58.831894Z"
    }
   },
   "cell_type": "code",
   "source": "cleaned_pdfs_df",
   "id": "bb5e195b939a9859",
   "outputs": [
    {
     "data": {
      "text/plain": [
       "                                          Organization Feedback reference  \\\n",
       "0      Consumer Technology Association (United States)            F551055   \n",
       "1    Center for Democracy & Technology (United States)            F551054   \n",
       "2    ETNO - European Telecommunications Network Ope...            F551053   \n",
       "3                               EuroCommerce (Belgium)            F551052   \n",
       "4    Slovak Alliance for Innovation Economy (Slovakia)            F551051   \n",
       "..                                                 ...                ...   \n",
       "432             NEC Laboratories Europe GmbH (Germany)           F2256824   \n",
       "433                Agence du Numérique (AdN) (Belgium)           F2256808   \n",
       "434                            gauthier lasou (France)           F2256463   \n",
       "435  SB Science Management UG (haftungsbeschränkt) ...           F2242340   \n",
       "436                         Даниел Кузманов (Bulgaria)           F2242316   \n",
       "\n",
       "          Submitted on                            User type  \\\n",
       "0    10 September 2020                 Business association   \n",
       "1    10 September 2020  Non-governmental organisation (NGO)   \n",
       "2    10 September 2020                 Business association   \n",
       "3    10 September 2020                 Business association   \n",
       "4    10 September 2020                 Business association   \n",
       "..                 ...                                  ...   \n",
       "432        05 May 2021        Academic/research Institution   \n",
       "433        05 May 2021                     Company/business   \n",
       "434      28 April 2021                           EU citizen   \n",
       "435      27 April 2021                     Company/business   \n",
       "436      27 April 2021                           EU citizen   \n",
       "\n",
       "                Organisation size Country of origin  \\\n",
       "0    Medium (50 to 249 employees)     United States   \n",
       "1      Small (10 to 49 employees)     United States   \n",
       "2        Micro (1 to 9 employees)           Belgium   \n",
       "3      Small (10 to 49 employees)           Belgium   \n",
       "4        Micro (1 to 9 employees)          Slovakia   \n",
       "..                            ...               ...   \n",
       "432  Medium (50 to 249 employees)           Germany   \n",
       "433    Small (10 to 49 employees)           Belgium   \n",
       "434                           NaN            France   \n",
       "435      Micro (1 to 9 employees)           Germany   \n",
       "436                           NaN          Bulgaria   \n",
       "\n",
       "                                                  text  \n",
       "0    September 10, 2020 Consumer Technology Associa...  \n",
       "1    CDT welcomes the opportunity to provide input ...  \n",
       "2    1 June 2020 European Commission's White Paper ...  \n",
       "3    September 2020 EuroCommerce contributions to t...  \n",
       "4    Slovensk aliancia pre inovat vnu ekonomiku Gr ...  \n",
       "..                                                 ...  \n",
       "432                                              Test.  \n",
       "433  Please find below our feedback on the AI impac...  \n",
       "434  Un r glement europ en qui va d finir des exige...  \n",
       "435  Unfortunately, standardisation measures are st...  \n",
       "436                               / 3+ . - , ( ) . - .  \n",
       "\n",
       "[434 rows x 7 columns]"
      ],
      "text/html": [
       "<div>\n",
       "<style scoped>\n",
       "    .dataframe tbody tr th:only-of-type {\n",
       "        vertical-align: middle;\n",
       "    }\n",
       "\n",
       "    .dataframe tbody tr th {\n",
       "        vertical-align: top;\n",
       "    }\n",
       "\n",
       "    .dataframe thead th {\n",
       "        text-align: right;\n",
       "    }\n",
       "</style>\n",
       "<table border=\"1\" class=\"dataframe\">\n",
       "  <thead>\n",
       "    <tr style=\"text-align: right;\">\n",
       "      <th></th>\n",
       "      <th>Organization</th>\n",
       "      <th>Feedback reference</th>\n",
       "      <th>Submitted on</th>\n",
       "      <th>User type</th>\n",
       "      <th>Organisation size</th>\n",
       "      <th>Country of origin</th>\n",
       "      <th>text</th>\n",
       "    </tr>\n",
       "  </thead>\n",
       "  <tbody>\n",
       "    <tr>\n",
       "      <th>0</th>\n",
       "      <td>Consumer Technology Association (United States)</td>\n",
       "      <td>F551055</td>\n",
       "      <td>10 September 2020</td>\n",
       "      <td>Business association</td>\n",
       "      <td>Medium (50 to 249 employees)</td>\n",
       "      <td>United States</td>\n",
       "      <td>September 10, 2020 Consumer Technology Associa...</td>\n",
       "    </tr>\n",
       "    <tr>\n",
       "      <th>1</th>\n",
       "      <td>Center for Democracy &amp; Technology (United States)</td>\n",
       "      <td>F551054</td>\n",
       "      <td>10 September 2020</td>\n",
       "      <td>Non-governmental organisation (NGO)</td>\n",
       "      <td>Small (10 to 49 employees)</td>\n",
       "      <td>United States</td>\n",
       "      <td>CDT welcomes the opportunity to provide input ...</td>\n",
       "    </tr>\n",
       "    <tr>\n",
       "      <th>2</th>\n",
       "      <td>ETNO - European Telecommunications Network Ope...</td>\n",
       "      <td>F551053</td>\n",
       "      <td>10 September 2020</td>\n",
       "      <td>Business association</td>\n",
       "      <td>Micro (1 to 9 employees)</td>\n",
       "      <td>Belgium</td>\n",
       "      <td>1 June 2020 European Commission's White Paper ...</td>\n",
       "    </tr>\n",
       "    <tr>\n",
       "      <th>3</th>\n",
       "      <td>EuroCommerce (Belgium)</td>\n",
       "      <td>F551052</td>\n",
       "      <td>10 September 2020</td>\n",
       "      <td>Business association</td>\n",
       "      <td>Small (10 to 49 employees)</td>\n",
       "      <td>Belgium</td>\n",
       "      <td>September 2020 EuroCommerce contributions to t...</td>\n",
       "    </tr>\n",
       "    <tr>\n",
       "      <th>4</th>\n",
       "      <td>Slovak Alliance for Innovation Economy (Slovakia)</td>\n",
       "      <td>F551051</td>\n",
       "      <td>10 September 2020</td>\n",
       "      <td>Business association</td>\n",
       "      <td>Micro (1 to 9 employees)</td>\n",
       "      <td>Slovakia</td>\n",
       "      <td>Slovensk aliancia pre inovat vnu ekonomiku Gr ...</td>\n",
       "    </tr>\n",
       "    <tr>\n",
       "      <th>...</th>\n",
       "      <td>...</td>\n",
       "      <td>...</td>\n",
       "      <td>...</td>\n",
       "      <td>...</td>\n",
       "      <td>...</td>\n",
       "      <td>...</td>\n",
       "      <td>...</td>\n",
       "    </tr>\n",
       "    <tr>\n",
       "      <th>432</th>\n",
       "      <td>NEC Laboratories Europe GmbH (Germany)</td>\n",
       "      <td>F2256824</td>\n",
       "      <td>05 May 2021</td>\n",
       "      <td>Academic/research Institution</td>\n",
       "      <td>Medium (50 to 249 employees)</td>\n",
       "      <td>Germany</td>\n",
       "      <td>Test.</td>\n",
       "    </tr>\n",
       "    <tr>\n",
       "      <th>433</th>\n",
       "      <td>Agence du Numérique (AdN) (Belgium)</td>\n",
       "      <td>F2256808</td>\n",
       "      <td>05 May 2021</td>\n",
       "      <td>Company/business</td>\n",
       "      <td>Small (10 to 49 employees)</td>\n",
       "      <td>Belgium</td>\n",
       "      <td>Please find below our feedback on the AI impac...</td>\n",
       "    </tr>\n",
       "    <tr>\n",
       "      <th>434</th>\n",
       "      <td>gauthier lasou (France)</td>\n",
       "      <td>F2256463</td>\n",
       "      <td>28 April 2021</td>\n",
       "      <td>EU citizen</td>\n",
       "      <td>NaN</td>\n",
       "      <td>France</td>\n",
       "      <td>Un r glement europ en qui va d finir des exige...</td>\n",
       "    </tr>\n",
       "    <tr>\n",
       "      <th>435</th>\n",
       "      <td>SB Science Management UG (haftungsbeschränkt) ...</td>\n",
       "      <td>F2242340</td>\n",
       "      <td>27 April 2021</td>\n",
       "      <td>Company/business</td>\n",
       "      <td>Micro (1 to 9 employees)</td>\n",
       "      <td>Germany</td>\n",
       "      <td>Unfortunately, standardisation measures are st...</td>\n",
       "    </tr>\n",
       "    <tr>\n",
       "      <th>436</th>\n",
       "      <td>Даниел Кузманов (Bulgaria)</td>\n",
       "      <td>F2242316</td>\n",
       "      <td>27 April 2021</td>\n",
       "      <td>EU citizen</td>\n",
       "      <td>NaN</td>\n",
       "      <td>Bulgaria</td>\n",
       "      <td>/ 3+ . - , ( ) . - .</td>\n",
       "    </tr>\n",
       "  </tbody>\n",
       "</table>\n",
       "<p>434 rows × 7 columns</p>\n",
       "</div>"
      ]
     },
     "execution_count": 8,
     "metadata": {},
     "output_type": "execute_result"
    }
   ],
   "execution_count": 8
  },
  {
   "metadata": {
    "ExecuteTime": {
     "end_time": "2024-12-21T17:01:00.949736Z",
     "start_time": "2024-12-21T17:01:00.825412Z"
    }
   },
   "cell_type": "code",
   "source": [
    "# Replace NaN in 'text' column with an empty string explicitly\n",
    "cleaned_pdfs_df['text'] = cleaned_pdfs_df['text'].fillna(\"\").astype(str)\n",
    "\n",
    "# Save cleaned data with UTF-8 encoding\n",
    "output_file = \"../data/processed/cleaned_data.csv\"\n",
    "cleaned_pdfs_df.to_csv(output_file, index=False, encoding='utf-8')\n",
    "print(f\"Data saved to {output_file}\")\n"
   ],
   "id": "328a4f068aa0e015",
   "outputs": [
    {
     "name": "stdout",
     "output_type": "stream",
     "text": [
      "Data saved to ../data/processed/cleaned_data.csv\n"
     ]
    }
   ],
   "execution_count": 124
  },
  {
   "metadata": {
    "ExecuteTime": {
     "end_time": "2024-12-28T04:57:18.886918Z",
     "start_time": "2024-12-28T04:57:18.788515Z"
    }
   },
   "cell_type": "code",
   "source": [
    "cleaned_data = pd.read_csv(\"../data/processed/cleaned_data.csv\")\n",
    "print(f\"Number of observations (rows): {len(cleaned_data)}\") "
   ],
   "id": "eca206bbce9d16e9",
   "outputs": [
    {
     "name": "stdout",
     "output_type": "stream",
     "text": [
      "Number of observations (rows): 434\n"
     ]
    }
   ],
   "execution_count": 10
  },
  {
   "metadata": {
    "ExecuteTime": {
     "end_time": "2024-12-28T04:59:42.053268Z",
     "start_time": "2024-12-28T04:59:41.959326Z"
    }
   },
   "cell_type": "code",
   "source": [
    "# Filtering duplicates \n",
    "def filter_duplicates(df, output_file):\n",
    "    df = df.drop_duplicates(subset=['text'])\n",
    "    df.to_csv(output_file, index=False)\n",
    "    print(f\"Duplicates removed and data saved to {output_file}\")\n",
    "    return df\n",
    "\n",
    "cleaned_data = filter_duplicates(cleaned_data, \"../data/processed/cleaned_data.csv\")"
   ],
   "id": "f5cdb93114e0cb36",
   "outputs": [
    {
     "name": "stdout",
     "output_type": "stream",
     "text": [
      "Duplicates removed and data saved to ../data/processed/cleaned_data.csv\n"
     ]
    }
   ],
   "execution_count": 12
  },
  {
   "metadata": {
    "ExecuteTime": {
     "end_time": "2024-12-28T04:59:47.042115Z",
     "start_time": "2024-12-28T04:59:46.948187Z"
    }
   },
   "cell_type": "code",
   "source": [
    "cleaned_data = pd.read_csv(\"../data/processed/cleaned_data.csv\")\n",
    "print(f\"Number of observations (rows): {len(cleaned_data)}\") "
   ],
   "id": "b1158b2c60cbd12b",
   "outputs": [
    {
     "name": "stdout",
     "output_type": "stream",
     "text": [
      "Number of observations (rows): 428\n"
     ]
    }
   ],
   "execution_count": 13
  },
  {
   "metadata": {},
   "cell_type": "markdown",
   "source": [
    "### Language Filtering\n",
    "Separate English feedback from non-English entries."
   ],
   "id": "ad687193724bc8e"
  },
  {
   "metadata": {
    "ExecuteTime": {
     "end_time": "2024-12-28T05:02:11.195638Z",
     "start_time": "2024-12-28T05:02:08.302967Z"
    }
   },
   "cell_type": "code",
   "source": [
    "from langdetect import detect, DetectorFactory, LangDetectException\n",
    "import langid\n",
    "DetectorFactory.seed = 0\n",
    "\n",
    "def detect_language(text):\n",
    "    try:\n",
    "        if isinstance(text, str) and text.strip():\n",
    "            return langid.classify(text)[0]\n",
    "    except Exception as e:\n",
    "        print(f\"Language detection failed: {e}\")\n",
    "    return \"unknown\"\n",
    "\n",
    "cleaned_data['language'] = cleaned_data['text'].apply(detect_language)\n",
    "english_feedback_df = cleaned_data[cleaned_data['language'] == 'en']\n",
    "non_english_feedback_df = cleaned_data[cleaned_data['language'] != 'en']"
   ],
   "id": "81b0aa142d562ac3",
   "outputs": [],
   "execution_count": 17
  },
  {
   "metadata": {
    "ExecuteTime": {
     "end_time": "2024-12-28T05:02:12.189718Z",
     "start_time": "2024-12-28T05:02:12.183497Z"
    }
   },
   "cell_type": "code",
   "source": [
    "# Count occurrences of each language\n",
    "language_counts = cleaned_data['language'].value_counts()\n",
    "print(language_counts)"
   ],
   "id": "bdf40684dd33aebb",
   "outputs": [
    {
     "name": "stdout",
     "output_type": "stream",
     "text": [
      "language\n",
      "en         379\n",
      "de          15\n",
      "fr          13\n",
      "pl           5\n",
      "pt           3\n",
      "an           3\n",
      "es           3\n",
      "ro           1\n",
      "hu           1\n",
      "cy           1\n",
      "it           1\n",
      "unknown      1\n",
      "nl           1\n",
      "sv           1\n",
      "Name: count, dtype: int64\n"
     ]
    }
   ],
   "execution_count": 18
  },
  {
   "metadata": {
    "ExecuteTime": {
     "end_time": "2024-12-28T05:02:43.855498Z",
     "start_time": "2024-12-28T05:02:43.753866Z"
    }
   },
   "cell_type": "code",
   "source": [
    "# Save the English feedback dataset\n",
    "english_feedback_df.to_csv(\"../data/processed/feedback_en.csv\", index=False)\n",
    "\n",
    "# Save non-English feedback\n",
    "non_english_feedback_df.to_csv(\"../data/processed/feedback_non_en.csv\", index=False)"
   ],
   "id": "77739272c24d706a",
   "outputs": [],
   "execution_count": 19
  },
  {
   "metadata": {
    "ExecuteTime": {
     "end_time": "2024-12-28T05:03:04.029862Z",
     "start_time": "2024-12-28T05:03:03.952787Z"
    }
   },
   "cell_type": "code",
   "source": "feedback_en = pd.read_csv(\"../data/processed/feedback_en.csv\")",
   "id": "e3cf7a073a67ad57",
   "outputs": [],
   "execution_count": 21
  },
  {
   "metadata": {
    "ExecuteTime": {
     "end_time": "2024-12-28T05:03:04.809755Z",
     "start_time": "2024-12-28T05:03:04.802405Z"
    }
   },
   "cell_type": "code",
   "source": "feedback_en",
   "id": "12322407181bbd80",
   "outputs": [
    {
     "data": {
      "text/plain": [
       "                                          Organization Feedback reference  \\\n",
       "0      Consumer Technology Association (United States)            F551055   \n",
       "1    Center for Democracy & Technology (United States)            F551054   \n",
       "2    ETNO - European Telecommunications Network Ope...            F551053   \n",
       "3                               EuroCommerce (Belgium)            F551052   \n",
       "4    Slovak Alliance for Innovation Economy (Slovakia)            F551051   \n",
       "..                                                 ...                ...   \n",
       "374                  The Value Engineers (Netherlands)           F2324448   \n",
       "375             NEC Laboratories Europe GmbH (Germany)           F2256824   \n",
       "376                Agence du Numérique (AdN) (Belgium)           F2256808   \n",
       "377  SB Science Management UG (haftungsbeschränkt) ...           F2242340   \n",
       "378                         Даниел Кузманов (Bulgaria)           F2242316   \n",
       "\n",
       "          Submitted on                            User type  \\\n",
       "0    10 September 2020                 Business association   \n",
       "1    10 September 2020  Non-governmental organisation (NGO)   \n",
       "2    10 September 2020                 Business association   \n",
       "3    10 September 2020                 Business association   \n",
       "4    10 September 2020                 Business association   \n",
       "..                 ...                                  ...   \n",
       "374        12 May 2021                     Company/business   \n",
       "375        05 May 2021        Academic/research Institution   \n",
       "376        05 May 2021                     Company/business   \n",
       "377      27 April 2021                     Company/business   \n",
       "378      27 April 2021                           EU citizen   \n",
       "\n",
       "                Organisation size Country of origin  \\\n",
       "0    Medium (50 to 249 employees)     United States   \n",
       "1      Small (10 to 49 employees)     United States   \n",
       "2        Micro (1 to 9 employees)           Belgium   \n",
       "3      Small (10 to 49 employees)           Belgium   \n",
       "4        Micro (1 to 9 employees)          Slovakia   \n",
       "..                            ...               ...   \n",
       "374      Micro (1 to 9 employees)       Netherlands   \n",
       "375  Medium (50 to 249 employees)           Germany   \n",
       "376    Small (10 to 49 employees)           Belgium   \n",
       "377      Micro (1 to 9 employees)           Germany   \n",
       "378                           NaN          Bulgaria   \n",
       "\n",
       "                                                  text language  \n",
       "0    September 10, 2020 Consumer Technology Associa...       en  \n",
       "1    CDT welcomes the opportunity to provide input ...       en  \n",
       "2    1 June 2020 European Commission's White Paper ...       en  \n",
       "3    September 2020 EuroCommerce contributions to t...       en  \n",
       "4    Slovensk aliancia pre inovat vnu ekonomiku Gr ...       en  \n",
       "..                                                 ...      ...  \n",
       "374  The proposed regulation is an excellent initia...       en  \n",
       "375                                              Test.       en  \n",
       "376  Please find below our feedback on the AI impac...       en  \n",
       "377  Unfortunately, standardisation measures are st...       en  \n",
       "378                               / 3+ . - , ( ) . - .       en  \n",
       "\n",
       "[379 rows x 8 columns]"
      ],
      "text/html": [
       "<div>\n",
       "<style scoped>\n",
       "    .dataframe tbody tr th:only-of-type {\n",
       "        vertical-align: middle;\n",
       "    }\n",
       "\n",
       "    .dataframe tbody tr th {\n",
       "        vertical-align: top;\n",
       "    }\n",
       "\n",
       "    .dataframe thead th {\n",
       "        text-align: right;\n",
       "    }\n",
       "</style>\n",
       "<table border=\"1\" class=\"dataframe\">\n",
       "  <thead>\n",
       "    <tr style=\"text-align: right;\">\n",
       "      <th></th>\n",
       "      <th>Organization</th>\n",
       "      <th>Feedback reference</th>\n",
       "      <th>Submitted on</th>\n",
       "      <th>User type</th>\n",
       "      <th>Organisation size</th>\n",
       "      <th>Country of origin</th>\n",
       "      <th>text</th>\n",
       "      <th>language</th>\n",
       "    </tr>\n",
       "  </thead>\n",
       "  <tbody>\n",
       "    <tr>\n",
       "      <th>0</th>\n",
       "      <td>Consumer Technology Association (United States)</td>\n",
       "      <td>F551055</td>\n",
       "      <td>10 September 2020</td>\n",
       "      <td>Business association</td>\n",
       "      <td>Medium (50 to 249 employees)</td>\n",
       "      <td>United States</td>\n",
       "      <td>September 10, 2020 Consumer Technology Associa...</td>\n",
       "      <td>en</td>\n",
       "    </tr>\n",
       "    <tr>\n",
       "      <th>1</th>\n",
       "      <td>Center for Democracy &amp; Technology (United States)</td>\n",
       "      <td>F551054</td>\n",
       "      <td>10 September 2020</td>\n",
       "      <td>Non-governmental organisation (NGO)</td>\n",
       "      <td>Small (10 to 49 employees)</td>\n",
       "      <td>United States</td>\n",
       "      <td>CDT welcomes the opportunity to provide input ...</td>\n",
       "      <td>en</td>\n",
       "    </tr>\n",
       "    <tr>\n",
       "      <th>2</th>\n",
       "      <td>ETNO - European Telecommunications Network Ope...</td>\n",
       "      <td>F551053</td>\n",
       "      <td>10 September 2020</td>\n",
       "      <td>Business association</td>\n",
       "      <td>Micro (1 to 9 employees)</td>\n",
       "      <td>Belgium</td>\n",
       "      <td>1 June 2020 European Commission's White Paper ...</td>\n",
       "      <td>en</td>\n",
       "    </tr>\n",
       "    <tr>\n",
       "      <th>3</th>\n",
       "      <td>EuroCommerce (Belgium)</td>\n",
       "      <td>F551052</td>\n",
       "      <td>10 September 2020</td>\n",
       "      <td>Business association</td>\n",
       "      <td>Small (10 to 49 employees)</td>\n",
       "      <td>Belgium</td>\n",
       "      <td>September 2020 EuroCommerce contributions to t...</td>\n",
       "      <td>en</td>\n",
       "    </tr>\n",
       "    <tr>\n",
       "      <th>4</th>\n",
       "      <td>Slovak Alliance for Innovation Economy (Slovakia)</td>\n",
       "      <td>F551051</td>\n",
       "      <td>10 September 2020</td>\n",
       "      <td>Business association</td>\n",
       "      <td>Micro (1 to 9 employees)</td>\n",
       "      <td>Slovakia</td>\n",
       "      <td>Slovensk aliancia pre inovat vnu ekonomiku Gr ...</td>\n",
       "      <td>en</td>\n",
       "    </tr>\n",
       "    <tr>\n",
       "      <th>...</th>\n",
       "      <td>...</td>\n",
       "      <td>...</td>\n",
       "      <td>...</td>\n",
       "      <td>...</td>\n",
       "      <td>...</td>\n",
       "      <td>...</td>\n",
       "      <td>...</td>\n",
       "      <td>...</td>\n",
       "    </tr>\n",
       "    <tr>\n",
       "      <th>374</th>\n",
       "      <td>The Value Engineers (Netherlands)</td>\n",
       "      <td>F2324448</td>\n",
       "      <td>12 May 2021</td>\n",
       "      <td>Company/business</td>\n",
       "      <td>Micro (1 to 9 employees)</td>\n",
       "      <td>Netherlands</td>\n",
       "      <td>The proposed regulation is an excellent initia...</td>\n",
       "      <td>en</td>\n",
       "    </tr>\n",
       "    <tr>\n",
       "      <th>375</th>\n",
       "      <td>NEC Laboratories Europe GmbH (Germany)</td>\n",
       "      <td>F2256824</td>\n",
       "      <td>05 May 2021</td>\n",
       "      <td>Academic/research Institution</td>\n",
       "      <td>Medium (50 to 249 employees)</td>\n",
       "      <td>Germany</td>\n",
       "      <td>Test.</td>\n",
       "      <td>en</td>\n",
       "    </tr>\n",
       "    <tr>\n",
       "      <th>376</th>\n",
       "      <td>Agence du Numérique (AdN) (Belgium)</td>\n",
       "      <td>F2256808</td>\n",
       "      <td>05 May 2021</td>\n",
       "      <td>Company/business</td>\n",
       "      <td>Small (10 to 49 employees)</td>\n",
       "      <td>Belgium</td>\n",
       "      <td>Please find below our feedback on the AI impac...</td>\n",
       "      <td>en</td>\n",
       "    </tr>\n",
       "    <tr>\n",
       "      <th>377</th>\n",
       "      <td>SB Science Management UG (haftungsbeschränkt) ...</td>\n",
       "      <td>F2242340</td>\n",
       "      <td>27 April 2021</td>\n",
       "      <td>Company/business</td>\n",
       "      <td>Micro (1 to 9 employees)</td>\n",
       "      <td>Germany</td>\n",
       "      <td>Unfortunately, standardisation measures are st...</td>\n",
       "      <td>en</td>\n",
       "    </tr>\n",
       "    <tr>\n",
       "      <th>378</th>\n",
       "      <td>Даниел Кузманов (Bulgaria)</td>\n",
       "      <td>F2242316</td>\n",
       "      <td>27 April 2021</td>\n",
       "      <td>EU citizen</td>\n",
       "      <td>NaN</td>\n",
       "      <td>Bulgaria</td>\n",
       "      <td>/ 3+ . - , ( ) . - .</td>\n",
       "      <td>en</td>\n",
       "    </tr>\n",
       "  </tbody>\n",
       "</table>\n",
       "<p>379 rows × 8 columns</p>\n",
       "</div>"
      ]
     },
     "execution_count": 22,
     "metadata": {},
     "output_type": "execute_result"
    }
   ],
   "execution_count": 22
  }
 ],
 "metadata": {
  "kernelspec": {
   "display_name": "Python 3",
   "language": "python",
   "name": "python3"
  },
  "language_info": {
   "codemirror_mode": {
    "name": "ipython",
    "version": 2
   },
   "file_extension": ".py",
   "mimetype": "text/x-python",
   "name": "python",
   "nbconvert_exporter": "python",
   "pygments_lexer": "ipython2",
   "version": "2.7.6"
  }
 },
 "nbformat": 4,
 "nbformat_minor": 5
}
